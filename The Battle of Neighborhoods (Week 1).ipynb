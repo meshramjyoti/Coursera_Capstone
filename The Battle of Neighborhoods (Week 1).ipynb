{
    "cells": [
        {
            "cell_type": "markdown",
            "metadata": {},
            "source": "# A description of the problem"
        },
        {
            "cell_type": "markdown",
            "metadata": {},
            "source": "\n#### New York City's demographics show that it is a large and ethnically diverse metropolis. It is the largest city in the United States with a long history of international immigration. New York City was home to nearly 8.5 million people in 2014, accounting for over 40% of the population of New York State and a slightly lower percentage of the New York metropolitan area, home to approximately 23.6 million. Over the last decade the city has been growing faster than the region. The New York region continues to be by far the leading metropolitan gateway for legal immigrants admitted into the United States.\n\n#### Throughout its history, New York City has been a major point of entry for immigrants; the term \"melting pot\" was coined to describe densely populated immigrant neighborhoods on the Lower East Side. As many as 800 languages are spoken in New York, making it the most linguistically diverse city in the world. English remains the most widely spoken language, although there are areas in the outer boroughs in which up to 25% of people speak English as an alternate language, and/or have limited or no English language fluency. English is least spoken in neighborhoods such as Flushing, Sunset Park, and Corona.\n\n#### NYC brings tourists in droves for its world-class museums, monuments, shopping, and theater. But it is also a city in which eating is often not something you do between activities, it is the activity. New York has one of the most competitive and diverse restaurant scenes anywhere in the world\u2014one study from earlier in the decade found that 80 percent of restaurants in New York close in the first five years (though that also means new and exciting eateries are opening constantly). Whether you want a three Michelin star tasting menu, a big plate of comfort food or just the best freakin' slice of pizza you've ever had in your life, you can find it in New York City. There are many resturants in New york City, each beloning to different categories like Chinese , Indian , French etc.\n\n#### In this project we will list and visualize all major parts of New York City that has great indian resturants so as to decide the place one can open an Indian food restaurant considering the concentration of the restaurants.\n\n"
        },
        {
            "cell_type": "code",
            "execution_count": 4,
            "metadata": {},
            "outputs": [],
            "source": "# reference: https://www.cntraveler.com/gallery/best-restaurants-in-new-york-city\n# reference: https://en.wikipedia.org/wiki/Demographics_of_New_York_City"
        },
        {
            "cell_type": "markdown",
            "metadata": {},
            "source": "# For this project we need the following data :"
        },
        {
            "cell_type": "markdown",
            "metadata": {},
            "source": "#### New York City data that contains list Boroughs, Neighborhoods along with their latitude and longitude.\n\n1. Data source : https://cocl.us/new_york_dataset\n\nDescription : This data set contains the required information. And we will use this data set to explore various neighborhoods of new york city.\n\nIndian resturants in each neighborhood of new york city.\n\n\n2. Data source : Fousquare API\n\nDescription : By using this api we will get all the venues in each neighborhood. We can filter these venues to get only indian resturants.\nGeoSpace data\n\nData source : https://data.cityofnewyork.us/City-Government/Borough-Boundaries/tqmj-j8zm\n\nDescription : By using this geo space data we will get the New york Borough boundaries that will help us visualize choropleth map.\n\n"
        },
        {
            "cell_type": "markdown",
            "metadata": {},
            "source": "# Methodology "
        },
        {
            "cell_type": "markdown",
            "metadata": {},
            "source": "1. Collect the new york city data from https://cocl.us/new_york_dataset\n2. Using FourSquare API finding all venues for each neighborhood.\n3. Filter out all venues which are Indian Resturants.\n4. Find rating , tips and like count for each Indian Resturants using FourSquare API.\n5. Sorting the data using rating for each resturant.\n6. Visualize the Ranking of neighborhoods using folium library(python)"
        },
        {
            "cell_type": "code",
            "execution_count": null,
            "metadata": {},
            "outputs": [],
            "source": ""
        }
    ],
    "metadata": {
        "kernelspec": {
            "display_name": "Python 3.6",
            "language": "python",
            "name": "python3"
        },
        "language_info": {
            "codemirror_mode": {
                "name": "ipython",
                "version": 3
            },
            "file_extension": ".py",
            "mimetype": "text/x-python",
            "name": "python",
            "nbconvert_exporter": "python",
            "pygments_lexer": "ipython3",
            "version": "3.6.9"
        }
    },
    "nbformat": 4,
    "nbformat_minor": 1
}